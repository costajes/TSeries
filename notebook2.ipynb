{
 "cells": [
  {
   "cell_type": "markdown",
   "metadata": {},
   "source": [
    "# Asterosismologia:\n",
    "\n",
    "## procurando por frequências de pulsação\n",
    "\n",
    "Prof. José Eduardo Costa\n",
    "IF-UFRGS"
   ]
  },
  {
   "cell_type": "markdown",
   "metadata": {},
   "source": [
    "**OBJETIVO:** \n",
    "\n",
    "Nesta atividade você vai analisar a curva de luz de uma anã branca pulsante para procurar por possíveis frequências de pulsação."
   ]
  },
  {
   "cell_type": "markdown",
   "metadata": {},
   "source": [
    "\n",
    "### 1. Importar módulo 'lightcurve':\n",
    "\n",
    "Este módulo contém uma classe chamada \"LightCurve\".\n",
    "Após a importação do módulo, crie um objeto da classe \"LightCurve\""
   ]
  },
  {
   "cell_type": "code",
   "execution_count": 1,
   "metadata": {},
   "outputs": [],
   "source": [
    "from LightCurve import LightCurve"
   ]
  },
  {
   "cell_type": "markdown",
   "metadata": {},
   "source": [
    "\n",
    "\n",
    "\n",
    "### 2. Criar um objeto da classe LightCurve:\n",
    "\n"
   ]
  },
  {
   "cell_type": "code",
   "execution_count": 2,
   "metadata": {},
   "outputs": [],
   "source": [
    "lc1 = LightCurve()"
   ]
  },
  {
   "cell_type": "markdown",
   "metadata": {},
   "source": [
    "\n",
    "\n",
    "### 3. Ler arquivo com curva de luz:\n"
   ]
  },
  {
   "cell_type": "code",
   "execution_count": 3,
   "metadata": {},
   "outputs": [],
   "source": [
    "filex = \"star03.dat\"\n",
    "lc1.readDataFile(filex)"
   ]
  },
  {
   "cell_type": "markdown",
   "metadata": {},
   "source": [
    "\n",
    "\n",
    "\n",
    "### 4. Visualizar curva de luz:\n",
    "ut = unidades de tempo\n"
   ]
  },
  {
   "cell_type": "code",
   "execution_count": null,
   "metadata": {},
   "outputs": [],
   "source": [
    "lc1.plot(ut='hours') "
   ]
  },
  {
   "cell_type": "markdown",
   "metadata": {},
   "source": [
    "\n",
    "### 5. Calcular o Periodograma da curva de luz\n",
    "(Essa operação pode demorar alguns instantes...)\n",
    "\n",
    "O método dft() tem as seguintes **opções**:\n",
    "\n",
    "**fmin**  : frequência inicial (Hz)<br>\n",
    "**fmax**  : frequência final (Hz)<br>\n",
    "\n",
    "**ufreq** : unidades de frequência ('Hz', 'mHz' ou 'uHz') <br>\n",
    "**uampl** : unidades de amplitude ('ma', 'mma') <br> \n",
    "**limit** : mostra limites de detecção de 3< A > e 4 < A > (True, False) <br>\n",
    "\n",
    "Este método retorna dois **arrays**: <br>\n",
    "\n",
    "**f** : frequência (em Hz) <br>\n",
    "**A** : amplitude (em ma) <br>"
   ]
  },
  {
   "cell_type": "code",
   "execution_count": null,
   "metadata": {},
   "outputs": [],
   "source": [
    "\n",
    "f, A = lc1.dft(fmin=0., fmax=10000.e-6, ufreq='uHz', uampl='mma', limit=False)\n"
   ]
  },
  {
   "cell_type": "markdown",
   "metadata": {},
   "source": [
    "Observe que o periodograma apresenta vários picos com amplitudes grandes <br>\n",
    "entre 1500 e 2000 uHz, contrastando com picos de pequenas amplitudes <br>\n",
    "do \"ruido espectral\". \n",
    "\n",
    "Note que os picos do \"ruido espectral\" apresentam amplitudes que \"flutuam\" <br>\n",
    "em torno de alguma amplitude média. Quanto maior é a amplitude de um pico <br>\n",
    "menores são as chances de sua amplitude ser resultante do acaso e maiores <br>\n",
    "são as chances do pico ser representativo de uma frequência de pulsação real <br>\n",
    "da estrela.\n",
    "\n",
    "Acima de 3*< A > as chances da amplitude de um pico ser devido ao acaso <br>\n",
    "são menores do que ~ 1 / 1000. \n",
    "\n",
    "Para adicionar os limites de detecção ao periodograma, use a opção **limit=True**: <br>\n",
    "\n",
    "laranja : 3*< A > <br>\n",
    "verde   : 4*< A > <br>"
   ]
  },
  {
   "cell_type": "code",
   "execution_count": null,
   "metadata": {},
   "outputs": [],
   "source": [
    "f, A = lc1.dft(fmin=1000.e-6, fmax=10000.e-6, ufreq='uHz', uampl='mma', limit=True)"
   ]
  },
  {
   "cell_type": "markdown",
   "metadata": {},
   "source": [
    "\n",
    "### 6. Extraia as frequências com amplitudes superiores a um certo limite:\n",
    "\n",
    "O método **getPeaks()** extrai todos os picos com amplitude acima de **amin** <br>\n",
    "(dado em termos da amplitude média). <br>\n",
    "\n",
    "Opções: <br>\n",
    "**acut**  : amplitude de corte (por default, em termos de **amed**) <br>\n",
    "**amed**  : usar < A > como referência? (default: True) <br>\n",
    "\n",
    "**uampl** : unidades para amplitude (na lista de saída)<br>\n",
    "**ufreq** : unidades para frequência (na lista de saída)<br>\n"
   ]
  },
  {
   "cell_type": "code",
   "execution_count": null,
   "metadata": {},
   "outputs": [],
   "source": [
    "\n",
    "lc1.getPeaks(acut=4., amed=True, uampl='mma', ufreq='uHz')  # 4*<A> \n"
   ]
  },
  {
   "cell_type": "markdown",
   "metadata": {},
   "source": [
    "Nem todos os picos acima do limite de detecção são possíveis candidatos <br>\n",
    "a frequências de pulsação. Alguns picos são *artefatos* introduzidos pela <br>\n",
    "Transformada de Fourier. <br>\n",
    "\n",
    "Pode ser conveniente usar um limite de corte mais alto: <br>"
   ]
  },
  {
   "cell_type": "code",
   "execution_count": null,
   "metadata": {},
   "outputs": [],
   "source": [
    "\n",
    "#lc1.getPeaks(acut=0.6e-3, amed=False, uampl='mma', ufreq='uHz')  # \n"
   ]
  },
  {
   "cell_type": "code",
   "execution_count": null,
   "metadata": {},
   "outputs": [],
   "source": []
  },
  {
   "cell_type": "code",
   "execution_count": null,
   "metadata": {},
   "outputs": [],
   "source": []
  },
  {
   "cell_type": "code",
   "execution_count": null,
   "metadata": {},
   "outputs": [],
   "source": []
  }
 ],
 "metadata": {
  "kernelspec": {
   "display_name": "Python 3 (ipykernel)",
   "language": "python",
   "name": "python3"
  },
  "language_info": {
   "codemirror_mode": {
    "name": "ipython",
    "version": 3
   },
   "file_extension": ".py",
   "mimetype": "text/x-python",
   "name": "python",
   "nbconvert_exporter": "python",
   "pygments_lexer": "ipython3",
   "version": "3.9.7"
  }
 },
 "nbformat": 4,
 "nbformat_minor": 2
}
