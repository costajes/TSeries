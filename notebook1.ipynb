{
 "cells": [
  {
   "cell_type": "markdown",
   "metadata": {},
   "source": [
    "# Asterosismologia\n",
    "## Entendendo a Transformada de Fourier\n",
    "\n",
    "Prof. José Eduardo Costa\n",
    "IF-UFRGS"
   ]
  },
  {
   "cell_type": "markdown",
   "metadata": {},
   "source": [
    "### 1. Importando o módulo LightCurve"
   ]
  },
  {
   "cell_type": "markdown",
   "metadata": {},
   "source": [
    "from LightCurve import LightCurve"
   ]
  },
  {
   "cell_type": "markdown",
   "metadata": {},
   "source": [
    "### 2. Criando um objeto da classe LightCurve\n",
    "Objetos desta classe podem conter séries temporais do tipo {t_i, y_i}, i=0,N-1, \n",
    "onde t_i é o tempo do dado i e y_i uma medida da intensidade da estrela.\n"
   ]
  },
  {
   "cell_type": "code",
   "execution_count": null,
   "metadata": {},
   "outputs": [],
   "source": [
    "lc1 = LightCurve()"
   ]
  },
  {
   "cell_type": "markdown",
   "metadata": {},
   "source": [
    "### 3. Definindo os tempos\n",
    "Define a série de valores {t_i} do tempo (em segundos). A série inicia no instante Tstart, com incrementos iguais a Tstep, até o instante Tend (ou a um valor próximo de Tend)"
   ]
  },
  {
   "cell_type": "code",
   "execution_count": null,
   "metadata": {},
   "outputs": [],
   "source": [
    "Tstart = 0.\n",
    "Tend = 7. * 3600.\n",
    "Tstep = 10.\n",
    "\n",
    "lc1.setTiming(Tstart, Tend, Tstep)"
   ]
  },
  {
   "cell_type": "markdown",
   "metadata": {},
   "source": [
    "### 4. Adicionando um sinal senoidal.\n",
    "Agora vamos adicionar um sinal senoidal do tipo\n",
    "$$ y(t_i) = A_1\\, \\sin(2\\pi\\,f_1\\,t_i + \\phi_1) $$"
   ]
  },
  {
   "cell_type": "code",
   "execution_count": null,
   "metadata": {},
   "outputs": [],
   "source": [
    "f1 = 1000.e-6   # frequência (em Hz)\n",
    "A1 = 1.e-3      # amplitude \n",
    "phase1 = 0.     # fator de fase\n",
    "\n",
    "lc1.addSinusoidalSignal(f1, A1, phase1)"
   ]
  },
  {
   "cell_type": "markdown",
   "metadata": {},
   "source": [
    "### 5. Visualizando a série temporal\n",
    "Agora vamos plotar um gráfico da intensidade em função do tempo.\n",
    "Note a forma senoidal do sinal."
   ]
  },
  {
   "cell_type": "code",
   "execution_count": null,
   "metadata": {},
   "outputs": [],
   "source": [
    "lc1.plot()"
   ]
  },
  {
   "cell_type": "markdown",
   "metadata": {},
   "source": [
    "### 6. Calculando a \"Transformada de Fourier\" da curva de luz.\n"
   ]
  },
  {
   "cell_type": "code",
   "execution_count": null,
   "metadata": {},
   "outputs": [],
   "source": [
    "fstart = 0.          #  frequência inicial (uHz)\n",
    "fend = 2000e-6       #  frequência final (uHz)\n",
    "\n",
    "lc1.dft(fstart, fend, ufreq='uHz')"
   ]
  },
  {
   "cell_type": "markdown",
   "metadata": {},
   "source": [
    "### 7. Adicionando um segundo sinal senoidal à curva de luz"
   ]
  },
  {
   "cell_type": "code",
   "execution_count": null,
   "metadata": {},
   "outputs": [],
   "source": [
    "f2 = 800.e-6   # frequência (uHz)\n",
    "A2 = 0.5e-3    # amplitude\n",
    "phase2 = 40.   # fase\n",
    "\n",
    "lc1.addSinusoidalSignal(f2, A2, phase2)"
   ]
  },
  {
   "cell_type": "markdown",
   "metadata": {},
   "source": [
    "### 8. Visualizando a nova curva de luz "
   ]
  },
  {
   "cell_type": "code",
   "execution_count": null,
   "metadata": {},
   "outputs": [],
   "source": [
    "lc1.plot()"
   ]
  },
  {
   "cell_type": "markdown",
   "metadata": {},
   "source": [
    "### 9. Calculando a \"Transformada de Fourier\" da nova curva de luz"
   ]
  },
  {
   "cell_type": "code",
   "execution_count": null,
   "metadata": {},
   "outputs": [],
   "source": [
    "fstart = 0.           # frequência inicial (uHz)\n",
    "fend = 2000.e-6       # frequência final (uHz)\n",
    "\n",
    "lc1.dft(fstart, fend, ufreq='uHz')"
   ]
  },
  {
   "cell_type": "code",
   "execution_count": null,
   "metadata": {},
   "outputs": [],
   "source": []
  }
 ],
 "metadata": {
  "kernelspec": {
   "display_name": "Python 3 (ipykernel)",
   "language": "python",
   "name": "python3"
  },
  "language_info": {
   "codemirror_mode": {
    "name": "ipython",
    "version": 3
   },
   "file_extension": ".py",
   "mimetype": "text/x-python",
   "name": "python",
   "nbconvert_exporter": "python",
   "pygments_lexer": "ipython3",
   "version": "3.9.7"
  }
 },
 "nbformat": 4,
 "nbformat_minor": 2
}
